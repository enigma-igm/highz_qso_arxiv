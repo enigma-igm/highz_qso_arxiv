{
 "cells": [
  {
   "cell_type": "code",
   "execution_count": 1,
   "metadata": {},
   "outputs": [],
   "source": [
    "from highz_qso_arxiv.plot import plot_single\n",
    "import matplotlib.pyplot as plt\n",
    "from ipywidgets import interactive, FloatSlider, Checkbox"
   ]
  },
  {
   "cell_type": "code",
   "execution_count": 3,
   "metadata": {},
   "outputs": [
    {
     "data": {
      "application/vnd.jupyter.widget-view+json": {
       "model_id": "eabb1e4f36664137bdb66a055c68c085",
       "version_major": 2,
       "version_minor": 0
      },
      "text/plain": [
       "interactive(children=(FloatSlider(value=3.255, description='redshift', max=3.4, min=3.2, readout_format='.3f',…"
      ]
     },
     "metadata": {},
     "output_type": "display_data"
    }
   ],
   "source": [
    "def f(z=3.255, telluric=True):\n",
    "\n",
    "    target = \"J2149-0859\"\n",
    "\n",
    "    if telluric:\n",
    "        fig, ax = plot_single(target, f\"../reduced/HeII/coadd2d/{target}_coadd_tellcorr.fits\", 1, telluric=True, display=False, smooth_window=3)\n",
    "    else:\n",
    "        fig, ax = plot_single(target, f\"../reduced/HeII/coadd2d/{target}_coadd.fits\", 1, display=False, smooth_window=3)\n",
    "    \n",
    "    ymin, ymax = ax.get_ylim()\n",
    "    ax.vlines(4861.35*(1+z), ymin, ymax, label=r\"$\\rm H_\\beta$\", color=\"green\", ls=\"dashed\", lw=2)\n",
    "    ax.vlines(4958.90*(1+z), ymin, ymax, label=r\"[O III]\", color=\"green\", ls=\"dotted\", lw=2)\n",
    "    ax.vlines(5006.90*(1+z), ymin, ymax, label=r\"[O III]\", color=\"green\", ls=\"dotted\", lw=2)\n",
    "    ax.legend(loc=\"upper right\", frameon=True)\n",
    "    return plt.show()\n",
    "\n",
    "interactive_plot = interactive(f, z=FloatSlider(value=3.255, min=3.2, max=3.4, step=0.005, readout_format=\".3f\", description=\"redshift\"), \n",
    "                               telluric=Checkbox(description=\"telluric correction\"))\n",
    "output = interactive_plot.children[-1]\n",
    "output.layout.height = '450px'\n",
    "interactive_plot"
   ]
  },
  {
   "cell_type": "code",
   "execution_count": null,
   "metadata": {},
   "outputs": [],
   "source": []
  }
 ],
 "metadata": {
  "interpreter": {
   "hash": "b0f8baa6c81834b8b322d65750ab839392460faf44a7bcaee45f82ddf87552c6"
  },
  "kernelspec": {
   "display_name": "Python 3.8.12 ('pypeit')",
   "language": "python",
   "name": "python3"
  },
  "language_info": {
   "codemirror_mode": {
    "name": "ipython",
    "version": 3
   },
   "file_extension": ".py",
   "mimetype": "text/x-python",
   "name": "python",
   "nbconvert_exporter": "python",
   "pygments_lexer": "ipython3",
   "version": "3.8.12"
  },
  "orig_nbformat": 4
 },
 "nbformat": 4,
 "nbformat_minor": 2
}
