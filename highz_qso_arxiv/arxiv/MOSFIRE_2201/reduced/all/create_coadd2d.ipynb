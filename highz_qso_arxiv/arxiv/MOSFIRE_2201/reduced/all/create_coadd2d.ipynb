{
 "cells": [
  {
   "cell_type": "code",
   "execution_count": 1,
   "metadata": {},
   "outputs": [],
   "source": [
    "import re\n",
    "import os\n",
    "import fnmatch\n",
    "from pypeit.par.util import parse_pypeit_file\n",
    "\n",
    "header = \"[rdx]\\n\\\n",
    "  spectrograph = keck_mosfire \\n\\\n",
    "  detnum = 1 \\n\\\n",
    "[reduce] \\n\\\n",
    "    [[findobj]] \\n\\\n",
    "        sig_thresh=5.0\\n\""
   ]
  },
  {
   "cell_type": "code",
   "execution_count": 3,
   "metadata": {},
   "outputs": [
    {
     "name": "stderr",
     "output_type": "stream",
     "text": [
      "\u001b[1;32m[INFO]    ::\u001b[0m Loading the reduction file\n",
      "\u001b[1;32m[INFO]    ::\u001b[0m Found 76 raw data frames\n",
      "\u001b[1;32m[INFO]    ::\u001b[0m Input file loaded successfully\n"
     ]
    }
   ],
   "source": [
    "cfg_lines, data_files, frametype, usrdata, setups, _ = parse_pypeit_file(\"keck_mosfire_L.pypeit\")\n",
    "frame_type = list(usrdata[\"frametype\"])\n",
    "target_name = list(usrdata[\"target\"])"
   ]
  },
  {
   "cell_type": "code",
   "execution_count": 4,
   "metadata": {},
   "outputs": [],
   "source": [
    "targets = []\n",
    "for i, target in enumerate(target_name):\n",
    "    if \"science\" in frame_type[i]:\n",
    "        targets.append(target)\n",
    "targets = list(set(targets))"
   ]
  },
  {
   "cell_type": "code",
   "execution_count": 5,
   "metadata": {},
   "outputs": [
    {
     "data": {
      "text/plain": [
       "['J0847+0139',\n",
       " 'J0838-0112',\n",
       " 'J0854+2908',\n",
       " 'J0637+3812',\n",
       " 'J1506+3316',\n",
       " 'J1024-0037',\n",
       " 'J0938+1341',\n",
       " 'J0730+5949']"
      ]
     },
     "execution_count": 5,
     "metadata": {},
     "output_type": "execute_result"
    }
   ],
   "source": [
    "targets"
   ]
  },
  {
   "cell_type": "code",
   "execution_count": 6,
   "metadata": {},
   "outputs": [],
   "source": [
    "for target in targets:\n",
    "    f_out = open(\"coadd2d/{}_coadd2d.cfg\".format(target), \"w+\")\n",
    "    \n",
    "    # header\n",
    "    f_out.write(header)\n",
    "\n",
    "    f_out.write(\"spec2d read \\n\")\n",
    "\n",
    "    # coaddfile\n",
    "    for f_name in os.listdir('./Science/'):\n",
    "        if fnmatch.fnmatch(f_name, f'spec2d*{target}*'):\n",
    "            f_out.write(f\"../Science/{f_name}\\n\")\n",
    "            \n",
    "    # read\n",
    "    f_out.write(\"spec2d end\")\n",
    "\n",
    "    f_out.close()"
   ]
  },
  {
   "cell_type": "code",
   "execution_count": null,
   "metadata": {},
   "outputs": [],
   "source": []
  }
 ],
 "metadata": {
  "interpreter": {
   "hash": "b0f8baa6c81834b8b322d65750ab839392460faf44a7bcaee45f82ddf87552c6"
  },
  "kernelspec": {
   "display_name": "Python 3.8.12 64-bit ('pypeit': conda)",
   "language": "python",
   "name": "python3"
  },
  "language_info": {
   "codemirror_mode": {
    "name": "ipython",
    "version": 3
   },
   "file_extension": ".py",
   "mimetype": "text/x-python",
   "name": "python",
   "nbconvert_exporter": "python",
   "pygments_lexer": "ipython3",
   "version": "3.8.12"
  },
  "orig_nbformat": 4
 },
 "nbformat": 4,
 "nbformat_minor": 2
}
