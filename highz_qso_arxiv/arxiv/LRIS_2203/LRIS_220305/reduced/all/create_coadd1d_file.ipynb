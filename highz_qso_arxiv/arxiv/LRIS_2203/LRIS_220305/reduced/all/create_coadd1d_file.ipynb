{
 "cells": [
  {
   "cell_type": "code",
   "execution_count": 5,
   "metadata": {},
   "outputs": [
    {
     "name": "stderr",
     "output_type": "stream",
     "text": [
      "\u001b[1;32m[INFO]    ::\u001b[0m Loading the fluxcalib file\n"
     ]
    }
   ],
   "source": [
    "from pypeit.io import read_sensfile\n",
    "import re\n",
    "import os\n",
    "\n",
    "f = read_sensfile(\"keck_lris_red_mark4.coadd1d\")\n",
    "\n",
    "idx_start = f.index('coadd1d read')\n",
    "idx_end = f.index('coadd1d end')\n",
    "\n",
    "targets = {}\n",
    "target_previous = \"\"\n",
    "for i in range(idx_start+1, idx_end):\n",
    "    target = re.findall('-[a-zA-Z0-9+-]+_', f[i])[0][1:-1]\n",
    "    if target != target_previous:\n",
    "        targets[target] = [i]\n",
    "    else:\n",
    "        targets[target].append(i)\n",
    "    target_previous = target\n",
    "\n",
    "sens_file = \"../GD153_IR_sens.fits\"\n",
    "for target in targets:\n",
    "    os.mkdir(target)\n",
    "    f_out = open(\"{}/{}.coadd1d\".format(target, target), \"w+\")\n",
    "    \n",
    "    # [coadd1d]\n",
    "    f_out.write(f[0]+\"\\n\")\n",
    "    \n",
    "    # coaddfile\n",
    "    f_out.write(\"coaddfile = {}_coadd.fits\\n\".format(target))\n",
    "\n",
    "    # sensfuncfile\n",
    "    f_out.write(\"sensfuncfile = {}\\n\".format(sens_file))\n",
    "\n",
    "    # wave_method\n",
    "    f_out.write(f[3]+\"\\n\")\n",
    "\n",
    "    # read\n",
    "    f_out.write(f[idx_start]+\"\\n\")\n",
    "\n",
    "    # list\n",
    "    for i in targets[target]:\n",
    "        f_out.write(\" ../\"+f[i]+\"\\n\")\n",
    "\n",
    "    # end\n",
    "    f_out.write(f[idx_end])\n",
    "    f_out.close()"
   ]
  },
  {
   "cell_type": "code",
   "execution_count": null,
   "metadata": {},
   "outputs": [],
   "source": []
  }
 ],
 "metadata": {
  "interpreter": {
   "hash": "b0f8baa6c81834b8b322d65750ab839392460faf44a7bcaee45f82ddf87552c6"
  },
  "kernelspec": {
   "display_name": "Python 3.8.12 64-bit ('pypeit': conda)",
   "language": "python",
   "name": "python3"
  },
  "language_info": {
   "codemirror_mode": {
    "name": "ipython",
    "version": 3
   },
   "file_extension": ".py",
   "mimetype": "text/x-python",
   "name": "python",
   "nbconvert_exporter": "python",
   "pygments_lexer": "ipython3",
   "version": "3.8.12"
  },
  "orig_nbformat": 4
 },
 "nbformat": 4,
 "nbformat_minor": 2
}
