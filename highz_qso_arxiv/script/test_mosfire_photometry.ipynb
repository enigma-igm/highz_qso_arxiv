{
 "cells": [
  {
   "cell_type": "code",
   "execution_count": 18,
   "metadata": {},
   "outputs": [],
   "source": [
    "import os\n",
    "import numpy as np\n",
    "import matplotlib.pyplot as plt\n",
    "from astropy.stats import sigma_clipped_stats\n",
    "from astropy.io import fits\n",
    "\n",
    "import matplotlib as mpl\n",
    "mpl.rcParams['image.interpolation'] = 'nearest'\n",
    "mpl.rcParams['image.origin'] = 'lower'"
   ]
  },
  {
   "cell_type": "code",
   "execution_count": 46,
   "metadata": {},
   "outputs": [],
   "source": [
    "ZP = {\n",
    "    'Y':28.13,\n",
    "    'J':27.89,\n",
    "    'H':27.54,\n",
    "    'Ks':26.93,\n",
    "    'J2':26.93,\n",
    "    'J3':26.88,\n",
    "    'H1':26.88,\n",
    "    'H2':26.85\n",
    "}"
   ]
  },
  {
   "cell_type": "code",
   "execution_count": 31,
   "metadata": {},
   "outputs": [],
   "source": [
    "def r_theta(im, xc, yc):\n",
    "    \"\"\"r_theta - make a radius mask and return the radius rr and the angle phi for point (xc,yc)\"\"\"\n",
    "    ny, nx = im.shape\n",
    "    yp, xp = np.mgrid[0:ny,0:nx]\n",
    "    yp = yp - yc\n",
    "    xp = xp - xc\n",
    "    rr = np.sqrt(np.power(yp,2.) + np.power(xp,2.))\n",
    "    phi = np.arctan2(yp, xp)\n",
    "    return(rr, phi)\n",
    "    \n",
    "def get_cutout(path, prefix, obj_frame, sky_frame, cut_min=None, cut_max=None, sig_min=3.0, sig_max=3.0):\n",
    "    sky_file = os.path.join(path, '{:s}{:04d}.fits'.format(prefix, sky_frame))\n",
    "    obj_file = os.path.join(path, '{:s}{:04d}.fits'.format(prefix, obj_frame))\n",
    "\n",
    "    obj = fits.getdata(obj_file)\n",
    "    sky = fits.getdata(sky_file)\n",
    "    diff = obj - sky\n",
    "\n",
    "    # Get the sky level in the window\n",
    "    ny, nx = diff.shape\n",
    "    # define crude y, x boundaries\n",
    "    x_coord, y_coord = np.meshgrid(np.arange(nx), np.arange(ny))\n",
    "    upper_left_y, upper_left_x = (1070, 1034)\n",
    "    upper_right_y, upper_right_x = (1070, 1051)\n",
    "    lower_left_y, lower_left_x = (1035, 1037)\n",
    "    lower_right_y, lower_right_x = (1032, 1055)\n",
    "\n",
    "    median_box = (x_coord > lower_left_x) & (x_coord < upper_right_x) & (y_coord > lower_left_y) & (y_coord < upper_right_y)\n",
    "    mean_sky, med_sky, sigma_sky = sigma_clipped_stats(diff[median_box], sigma_lower=3.0, sigma_upper=3.0)\n",
    "    cut_min = med_sky - sig_min*sigma_sky if cut_min is None else cut_min\n",
    "    cut_max = med_sky + sig_max*sigma_sky if cut_max is None else cut_max\n",
    "\n",
    "    image = diff * median_box\n",
    "\n",
    "    image_cutout = image[1035+1:1070,1037+1:1051]\n",
    "    return image_cutout"
   ]
  },
  {
   "cell_type": "code",
   "execution_count": 45,
   "metadata": {},
   "outputs": [],
   "source": [
    "path = \"../resource\"\n",
    "qso_cutout = get_cutout(path, \"qso_\", 1, 0)\n",
    "star_cutout = get_cutout(path, \"star_\", 1, 0)\n",
    "qso_hdr =fits.getheader(f\"{path}/qso_0001.fits\")\n",
    "star_hdr = fits.getheader(f\"{path}/star_0001.fits\")"
   ]
  },
  {
   "cell_type": "code",
   "execution_count": 70,
   "metadata": {},
   "outputs": [
    {
     "data": {
      "image/png": "[encoded data removed]",
      "text/plain": [
       "<Figure size 432x288 with 2 Axes>"
      ]
     },
     "metadata": {
      "needs_background": "light"
     },
     "output_type": "display_data"
    }
   ],
   "source": [
    "xcen = 7.5\n",
    "ycen = 12\n",
    "\n",
    "fig, ax = plt.subplots()\n",
    "circle = mpl.patches.Circle((xcen,ycen), 8, fill=False, color=\"red\")\n",
    "ax.add_patch(circle)\n",
    "a = ax.imshow(qso_cutout)\n",
    "fig.colorbar(a)\n",
    "plt.show()"
   ]
  },
  {
   "cell_type": "code",
   "execution_count": 78,
   "metadata": {},
   "outputs": [
    {
     "data": {
      "image/png": "[encoded data removed]",
      "text/plain": [
       "<Figure size 432x288 with 2 Axes>"
      ]
     },
     "metadata": {
      "needs_background": "light"
     },
     "output_type": "display_data"
    },
    {
     "name": "stdout",
     "output_type": "stream",
     "text": [
      "22.600508136073294\n"
     ]
    }
   ],
   "source": [
    "ly, lx = np.shape(qso_cutout)\n",
    "Y, X = np.mgrid[0:ly, 0:lx]\n",
    "mask = (Y < ycen + 10) & (Y > ycen - 10)\n",
    "size = len(qso_cutout[mask])\n",
    "mask_bg = (Y < (ycen+12) + 5) & (Y > (ycen+12) - 5)\n",
    "size_bg = len(qso_cutout[mask_bg])\n",
    "\n",
    "fig, axs = plt.subplots(1, 2)\n",
    "axs[0].imshow(qso_cutout*mask)\n",
    "axs[1].imshow(qso_cutout*mask_bg)\n",
    "plt.show()\n",
    "\n",
    "f_qso = (np.sum(qso_cutout[mask]) - np.sum(qso_cutout[mask_bg])*size/size_bg) / qso_hdr[\"ELAPTIME\"]\n",
    "m_qso = -2.5 * np.log10(f_qso) + ZP[\"J\"]\n",
    "\n",
    "print(m_qso)"
   ]
  },
  {
   "cell_type": "code",
   "execution_count": 79,
   "metadata": {},
   "outputs": [
    {
     "data": {
      "image/png": "[encoded data removed]",
      "text/plain": [
       "<Figure size 432x288 with 2 Axes>"
      ]
     },
     "metadata": {
      "needs_background": "light"
     },
     "output_type": "display_data"
    },
    {
     "name": "stdout",
     "output_type": "stream",
     "text": [
      "22.422844587228433\n"
     ]
    }
   ],
   "source": [
    "m = np.ones_like(qso_cutout)\n",
    "rr, phi = r_theta(m, xcen, ycen)\n",
    "mask = (rr <= 8)\n",
    "rr, phi = r_theta(m, xcen-3, ycen+12)\n",
    "mask_bg = (rr <= 5)\n",
    "size = len(qso_cutout[mask])\n",
    "size_bg = len(qso_cutout[mask_bg])\n",
    "\n",
    "fig, axs = plt.subplots(1, 2)\n",
    "axs[0].imshow(qso_cutout*mask)\n",
    "axs[1].imshow(qso_cutout*mask_bg)\n",
    "plt.show()\n",
    "\n",
    "f_qso = (np.sum(qso_cutout[mask]) - np.sum(qso_cutout[mask_bg])*size/size_bg) / qso_hdr[\"ELAPTIME\"]\n",
    "m_qso = -2.5 * np.log10(f_qso) + ZP[\"J\"]\n",
    "\n",
    "print(m_qso)"
   ]
  },
  {
   "cell_type": "code",
   "execution_count": 68,
   "metadata": {},
   "outputs": [
    {
     "data": {
      "image/png": "[encoded data removed]",
      "text/plain": [
       "<Figure size 432x288 with 2 Axes>"
      ]
     },
     "metadata": {
      "needs_background": "light"
     },
     "output_type": "display_data"
    }
   ],
   "source": [
    "xcen = 4.6\n",
    "ycen = 17.1\n",
    "\n",
    "fig, ax = plt.subplots()\n",
    "circle = mpl.patches.Circle((xcen,ycen), 4, fill=False, color=\"red\")\n",
    "ax.add_patch(circle)\n",
    "a = ax.imshow(star_cutout)\n",
    "fig.colorbar(a)\n",
    "plt.show()"
   ]
  },
  {
   "cell_type": "code",
   "execution_count": 82,
   "metadata": {},
   "outputs": [
    {
     "data": {
      "image/png": "[encoded data removed]",
      "text/plain": [
       "<Figure size 432x288 with 2 Axes>"
      ]
     },
     "metadata": {
      "needs_background": "light"
     },
     "output_type": "display_data"
    },
    {
     "name": "stdout",
     "output_type": "stream",
     "text": [
      "19.303552588580757\n"
     ]
    }
   ],
   "source": [
    "xcen = 4.6\n",
    "ycen = 17.1\n",
    "\n",
    "m = np.ones_like(star_cutout)\n",
    "rr, phi = r_theta(m, xcen, ycen)\n",
    "mask = (rr <= 8)\n",
    "rr, phi = r_theta(m, xcen+2, ycen+12)\n",
    "mask_bg = (rr <= 5)\n",
    "size = len(star_cutout[mask])\n",
    "size_bg = len(star_cutout[mask_bg])\n",
    "\n",
    "fig, axs = plt.subplots(1, 2)\n",
    "axs[0].imshow(star_cutout*mask)\n",
    "axs[1].imshow(star_cutout*mask_bg)\n",
    "plt.show()\n",
    "\n",
    "f_star = (np.sum(star_cutout[mask]) - np.sum(star_cutout[mask_bg])) / star_hdr[\"ELAPTIME\"]\n",
    "m_star = -2.5 * np.log10(f_star) + ZP[\"J\"]\n",
    "\n",
    "print(m_star)"
   ]
  },
  {
   "cell_type": "code",
   "execution_count": 83,
   "metadata": {},
   "outputs": [
    {
     "data": {
      "image/png": "[encoded data removed]",
      "text/plain": [
       "<Figure size 432x288 with 2 Axes>"
      ]
     },
     "metadata": {
      "needs_background": "light"
     },
     "output_type": "display_data"
    },
    {
     "name": "stdout",
     "output_type": "stream",
     "text": [
      "19.428873225213692\n"
     ]
    }
   ],
   "source": [
    "xcen = 4.6\n",
    "ycen = 17.1\n",
    "\n",
    "ly, lx = np.shape(star_cutout)\n",
    "Y, X = np.mgrid[0:ly, 0:lx]\n",
    "mask = (Y < ycen + 10) & (Y > ycen - 10)\n",
    "size = len(star_cutout[mask])\n",
    "mask_bg = (Y < (ycen+10) + 5) & (Y > (ycen+10) - 5)\n",
    "size_bg = len(star_cutout[mask_bg])\n",
    "\n",
    "fig, axs = plt.subplots(1, 2)\n",
    "axs[0].imshow(star_cutout*mask)\n",
    "axs[1].imshow(star_cutout*mask_bg)\n",
    "plt.show()\n",
    "\n",
    "f_star = (np.sum(star_cutout[mask]) - np.sum(star_cutout[mask_bg])*size/size_bg) / star_hdr[\"ELAPTIME\"]\n",
    "m_star = -2.5 * np.log10(f_star) + ZP[\"J\"]\n",
    "\n",
    "print(m_star)"
   ]
  },
  {
   "cell_type": "code",
   "execution_count": 91,
   "metadata": {},
   "outputs": [],
   "source": [
    "qso_mjd = qso_hdr[\"MJD-obs\"]\n",
    "star_mjd = star_hdr[\"MJD-obs\"]"
   ]
  },
  {
   "cell_type": "code",
   "execution_count": 95,
   "metadata": {},
   "outputs": [],
   "source": [
    "from highz_qso_arxiv.util import *\n",
    "from highz_qso_arxiv.crawler import get_skyprobe_extinction"
   ]
  },
  {
   "cell_type": "code",
   "execution_count": 98,
   "metadata": {},
   "outputs": [],
   "source": [
    "qso_unix = mjd_to_unix(qso_mjd)"
   ]
  },
  {
   "cell_type": "code",
   "execution_count": 97,
   "metadata": {},
   "outputs": [],
   "source": [
    "star_unix = mjd_to_unix(star_mjd)"
   ]
  },
  {
   "cell_type": "code",
   "execution_count": 99,
   "metadata": {},
   "outputs": [
    {
     "data": {
      "text/html": [
       "<div><i>Table length=10</i>\n",
       "<table id=\"table140367818447984\" class=\"table-striped table-bordered table-condensed\">\n",
       "<thead><tr><th>time</th><th>extinction</th><th>scatter</th></tr></thead>\n",
       "<thead><tr><th>UNIX</th><th>mag</th><th>mag</th></tr></thead>\n",
       "<thead><tr><th>int64</th><th>float64</th><th>float64</th></tr></thead>\n",
       "<tr><td>1590664144</td><td>1.15</td><td>0.011</td></tr>\n",
       "<tr><td>1590664204</td><td>1.074</td><td>0.008</td></tr>\n",
       "<tr><td>1590664265</td><td>1.012</td><td>0.008</td></tr>\n",
       "<tr><td>1590664326</td><td>0.903</td><td>0.01</td></tr>\n",
       "<tr><td>1590664384</td><td>0.887</td><td>0.009</td></tr>\n",
       "<tr><td>1590664444</td><td>0.857</td><td>0.007</td></tr>\n",
       "<tr><td>1590664505</td><td>0.852</td><td>0.007</td></tr>\n",
       "<tr><td>1590664565</td><td>0.933</td><td>0.01</td></tr>\n",
       "<tr><td>1590664625</td><td>0.909</td><td>0.009</td></tr>\n",
       "<tr><td>1590664685</td><td>0.907</td><td>0.01</td></tr>\n",
       "</table></div>"
      ],
      "text/plain": [
       "<Table length=10>\n",
       "   time    extinction scatter\n",
       "   UNIX       mag       mag  \n",
       "  int64     float64   float64\n",
       "---------- ---------- -------\n",
       "1590664144       1.15   0.011\n",
       "1590664204      1.074   0.008\n",
       "1590664265      1.012   0.008\n",
       "1590664326      0.903    0.01\n",
       "1590664384      0.887   0.009\n",
       "1590664444      0.857   0.007\n",
       "1590664505      0.852   0.007\n",
       "1590664565      0.933    0.01\n",
       "1590664625      0.909   0.009\n",
       "1590664685      0.907    0.01"
      ]
     },
     "execution_count": 99,
     "metadata": {},
     "output_type": "execute_result"
    }
   ],
   "source": [
    "get_skyprobe_extinction(star_unix-300, star_unix+300)"
   ]
  },
  {
   "cell_type": "code",
   "execution_count": 102,
   "metadata": {},
   "outputs": [
    {
     "data": {
      "text/plain": [
       "(1590664601.585664, 1590664413.395232)"
      ]
     },
     "execution_count": 102,
     "metadata": {},
     "output_type": "execute_result"
    }
   ],
   "source": [
    "qso_unix, star_unix"
   ]
  },
  {
   "cell_type": "code",
   "execution_count": 100,
   "metadata": {},
   "outputs": [
    {
     "data": {
      "text/html": [
       "<div><i>Table length=10</i>\n",
       "<table id=\"table140367835753872\" class=\"table-striped table-bordered table-condensed\">\n",
       "<thead><tr><th>time</th><th>extinction</th><th>scatter</th></tr></thead>\n",
       "<thead><tr><th>UNIX</th><th>mag</th><th>mag</th></tr></thead>\n",
       "<thead><tr><th>int64</th><th>float64</th><th>float64</th></tr></thead>\n",
       "<tr><td>1590664326</td><td>0.903</td><td>0.01</td></tr>\n",
       "<tr><td>1590664384</td><td>0.887</td><td>0.009</td></tr>\n",
       "<tr><td>1590664444</td><td>0.857</td><td>0.007</td></tr>\n",
       "<tr><td>1590664505</td><td>0.852</td><td>0.007</td></tr>\n",
       "<tr><td>1590664565</td><td>0.933</td><td>0.01</td></tr>\n",
       "<tr><td>1590664625</td><td>0.909</td><td>0.009</td></tr>\n",
       "<tr><td>1590664685</td><td>0.907</td><td>0.01</td></tr>\n",
       "<tr><td>1590664745</td><td>0.952</td><td>0.012</td></tr>\n",
       "<tr><td>1590664805</td><td>1.045</td><td>0.011</td></tr>\n",
       "<tr><td>1590664865</td><td>0.953</td><td>0.008</td></tr>\n",
       "</table></div>"
      ],
      "text/plain": [
       "<Table length=10>\n",
       "   time    extinction scatter\n",
       "   UNIX       mag       mag  \n",
       "  int64     float64   float64\n",
       "---------- ---------- -------\n",
       "1590664326      0.903    0.01\n",
       "1590664384      0.887   0.009\n",
       "1590664444      0.857   0.007\n",
       "1590664505      0.852   0.007\n",
       "1590664565      0.933    0.01\n",
       "1590664625      0.909   0.009\n",
       "1590664685      0.907    0.01\n",
       "1590664745      0.952   0.012\n",
       "1590664805      1.045   0.011\n",
       "1590664865      0.953   0.008"
      ]
     },
     "execution_count": 100,
     "metadata": {},
     "output_type": "execute_result"
    }
   ],
   "source": [
    "get_skyprobe_extinction(qso_unix-300, qso_unix+300)"
   ]
  },
  {
   "cell_type": "code",
   "execution_count": 101,
   "metadata": {},
   "outputs": [
    {
     "name": "stdout",
     "output_type": "stream",
     "text": [
      "get extinction data from SkyProbe\n",
      "       link: https://www.cfht.hawaii.edu/Instruments/Elixir/skyprobe/archive-new.html\n",
      "\n",
      "        NOTE: there is a small, but variable, zero-point offset to the extinction measurement. \n",
      "              This varies based on sky conditions, instrument cleanliness (dust on the lens), \n",
      "              and telescope airmass. \n",
      "              For simplicity's sake, CFHT staff usually assume an average offset of +0.03.\n",
      "              Thus we probably should -0.03 from the extinction we get.\n",
      "    Args:\n",
      "        t_start (int): UNIX time\n",
      "        t_end (int):UNIX time\n",
      "    \n"
     ]
    }
   ],
   "source": [
    "print(get_skyprobe_extinction.__doc__)"
   ]
  },
  {
   "cell_type": "code",
   "execution_count": null,
   "metadata": {},
   "outputs": [],
   "source": []
  }
 ],
 "metadata": {
  "interpreter": {
   "hash": "b0f8baa6c81834b8b322d65750ab839392460faf44a7bcaee45f82ddf87552c6"
  },
  "kernelspec": {
   "display_name": "Python 3.8.12 ('pypeit')",
   "language": "python",
   "name": "python3"
  },
  "language_info": {
   "codemirror_mode": {
    "name": "ipython",
    "version": 3
   },
   "file_extension": ".py",
   "mimetype": "text/x-python",
   "name": "python",
   "nbconvert_exporter": "python",
   "pygments_lexer": "ipython3",
   "version": "3.8.12"
  },
  "orig_nbformat": 4
 },
 "nbformat": 4,
 "nbformat_minor": 2
}
