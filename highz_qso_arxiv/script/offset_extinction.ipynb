{
 "cells": [
  {
   "cell_type": "code",
   "execution_count": 143,
   "metadata": {},
   "outputs": [],
   "source": [
    "import pandas as pd\n",
    "import numpy as np\n",
    "from astropy.io import fits\n",
    "\n",
    "from highz_qso_arxiv.util import mjd_to_unix\n",
    "from highz_qso_arxiv.util.photutil import find_peak, get_mosfire_acq, get_mosfire_acq_proc, circle_mask, naive_bkg_subtract, sigma_clipping_bkg_subtract\n",
    "from highz_qso_arxiv.crawler import get_skyprobe_extinction\n",
    "from highz_qso_arxiv.resource.zero_points import mosfire_ZP\n",
    "from highz_qso_arxiv.plot import plot_acq_and_hist, plot_extinction\n",
    "\n",
    "from pypeit.scripts import view_fits\n",
    "\n",
    "path = \"../arxiv/MOSFIRE_2204/raw\"\n",
    "df = pd.read_csv('offset_list.csv')"
   ]
  },
  {
   "cell_type": "code",
   "execution_count": null,
   "metadata": {},
   "outputs": [],
   "source": [
    "m_aper = []\n",
    "for i in range(len(df)):\n",
    "\n",
    "    vf = view_fits.ViewFits()\n",
    "    args = vf.get_parser()\n",
    "    args.proc = True\n",
    "    args.det = [1]\n",
    "    args.file = \"{}/m220409_{}.fits\".format(path, \"%04d\"%df[\"objframe\"][i])\n",
    "    args.bkg_file = \"{}/m220409_{}.fits\".format(path, \"%04d\"%df[\"skyframe\"][i])\n",
    "    acq_img = get_mosfire_acq_proc(path, objfile=\"m220409_{}.fits\".format(\"%04d\"%df[\"objframe\"][i]), \n",
    "                                   skyfile=\"m220409_{}.fits\".format(\"%04d\"%df[\"skyframe\"][i]))\n",
    "    hdr = fits.getheader(\"{}/m220409_{}.fits\".format(path, \"%04d\"%df[\"objframe\"][i]))\n",
    "    peak = find_peak(acq_img)\n",
    "    # plot_acq_and_hist(acq_img, peak, title=df[\"offset\"][i], display=True, save_file=f\"{df[\"offset\"][i]}.pdf\")\n",
    "\n",
    "    mask = circle_mask(acq_img, peak[0], peak[1], 6)\n",
    "    star_medsub = naive_bkg_subtract(acq_img, method=\"median\", mask_source=True)\n",
    "    # star_sigmaclip = sigma_clipping_bkg_subtract(acq_img, mask_radius=10)\n",
    "\n",
    "    f_star = np.sum(star_medsub[mask]) / hdr[\"TRUITIME\"]\n",
    "    # f_star = np.sum(star_sigmaclip[mask]) / hdr[\"TRUITIME\"]\n",
    "\n",
    "    m_star = -2.5 * np.log10(f_star) + mosfire_ZP[\"J\"]\n",
    "    print(df[\"offset\"][i], df[\"JAB\"][i], m_star)\n",
    "    m_aper.append(m_star)\n",
    "m_star = np.array(m_star)"
   ]
  },
  {
   "cell_type": "code",
   "execution_count": 141,
   "metadata": {},
   "outputs": [
    {
     "name": "stdout",
     "output_type": "stream",
     "text": [
      "J0841+3814 15.0 15.327417199897637\n",
      "J0951+5146 16.743875 16.074223873406325\n",
      "J1003+5424 18.53792 17.865341969589565\n",
      "J1124+0310 19.449362 19.903323022632417\n",
      "J1150-0143 15.278945 15.599961412668073\n",
      "J1202+0129 19.264778 19.537685741379512\n",
      "J1218+5254 16.848807 16.28306343437047\n",
      "J1318+2932 19.156647 19.387297015748537\n",
      "J1315+1533 16.974504 17.24382270728089\n",
      "J1333+0919 18.330868 18.70722236537027\n",
      "J1332+0150 18.959614 19.16255593093478\n",
      "J1511+0344 17.018526 17.392969565559916\n",
      "J1424+2527 17.574005 16.41307439737048\n",
      "J1544+3138 17.729967 17.073207555628652\n",
      "J1447+5839 17.720618 17.34423375766163\n"
     ]
    }
   ],
   "source": [
    "m_aper = []\n",
    "for i in range(len(df)):\n",
    "    \n",
    "    acq_img = get_mosfire_acq_proc(path, objfile=\"m220409_{}.fits\".format(\"%04d\"%df[\"objframe\"][i]), \n",
    "                                   skyfile=\"m220409_{}.fits\".format(\"%04d\"%df[\"skyframe\"][i]))\n",
    "    hdr = fits.getheader(\"{}/m220409_{}.fits\".format(path, \"%04d\"%df[\"objframe\"][i]))\n",
    "    peak = find_peak(acq_img)\n",
    "    # plot_acq_and_hist(acq_img, peak, title=df[\"offset\"][i], display=True, save_file=f\"{df[\"offset\"][i]}.pdf\")\n",
    "\n",
    "    mask = circle_mask(acq_img, peak[0], peak[1], 6)\n",
    "    star_medsub = naive_bkg_subtract(acq_img, method=\"median\", mask_source=True)\n",
    "    # star_sigmaclip = sigma_clipping_bkg_subtract(acq_img, mask_radius=10)\n",
    "\n",
    "    f_star = np.sum(star_medsub[mask]) / hdr[\"TRUITIME\"]\n",
    "    # f_star = np.sum(star_sigmaclip[mask]) / hdr[\"TRUITIME\"]\n",
    "\n",
    "    m_star = -2.5 * np.log10(f_star) + mosfire_ZP[\"J\"]\n",
    "    print(df[\"offset\"][i], df[\"JAB\"][i], m_star)\n",
    "    m_aper.append(m_star)\n",
    "m_star = np.array(m_star)"
   ]
  },
  {
   "cell_type": "code",
   "execution_count": 126,
   "metadata": {},
   "outputs": [],
   "source": [
    "extinction, scatter = [], []\n",
    "for i in range(len(df)):\n",
    "    hdr = fits.getheader(\"{}/m220409_{}.fits\".format(path, \"%04d\"%df[\"objframe\"][i]))\n",
    "    obs_mjd = hdr[\"MJD-OBS\"]\n",
    "    obs_unix = mjd_to_unix(obs_mjd)\n",
    "    extinction_data = get_skyprobe_extinction(obs_unix-900, obs_unix+900)\n",
    "    closest_time = min(extinction_data[\"time\"], key=lambda x:abs(x-obs_unix))\n",
    "    dat = extinction_data[extinction_data[\"time\"]==closest_time]\n",
    "    extinction.append(dat[\"extinction\"].value[0]-0.03)\n",
    "    scatter.append(dat[\"scatter\"].value[0])\n",
    "extinction = np.array(extinction)\n",
    "scatter = np.array(scatter)"
   ]
  },
  {
   "cell_type": "code",
   "execution_count": 131,
   "metadata": {},
   "outputs": [
    {
     "name": "stderr",
     "output_type": "stream",
     "text": [
      "No handles with labels found to put in legend.\n"
     ]
    },
    {
     "data": {
      "text/plain": [
       "<matplotlib.legend.Legend at 0x7f833463dc70>"
      ]
     },
     "execution_count": 131,
     "metadata": {},
     "output_type": "execute_result"
    },
    {
     "data": {
      "image/png": "[encoded data removed]",
      "text/plain": [
       "<Figure size 432x432 with 1 Axes>"
      ]
     },
     "metadata": {
      "needs_background": "light"
     },
     "output_type": "display_data"
    }
   ],
   "source": [
    "import matplotlib.pyplot as plt\n",
    "fig, ax = plt.subplots(figsize=(6,6))\n",
    "\n",
    "ax.plot([0,20], [0,20])\n",
    "# ax.scatter(df[\"JAB\"], m_aper, label=\"without extinction\")\n",
    "ax.scatter(df[\"JAB\"], m_aper-extinction)\n",
    "ax.errorbar(df[\"JAB\"], m_aper-extinction, yerr=scatter, linestyle='None', elinewidth=1, capsize=1, capthick=1)\n",
    "\n",
    "# ax.scatter(df[\"JAB\"]-m_aper, extinction)\n",
    "# ax.errorbar(df[\"JAB\"]-m_aper, extinction, yerr=scatter, linestyle='None', elinewidth=1, capsize=1, capthick=1)\n",
    "ax.set_xlim(14, 20)\n",
    "ax.set_ylim(14, 20)\n",
    "# ax.set_xlim(-0.6, 1.3)\n",
    "# ax.set_ylim(-0.6, 1.3)\n",
    "\n",
    "ax.legend()\n"
   ]
  },
  {
   "cell_type": "code",
   "execution_count": 142,
   "metadata": {},
   "outputs": [
    {
     "data": {
      "text/plain": [
       "[<matplotlib.lines.Line2D at 0x7f83335b0f40>]"
      ]
     },
     "execution_count": 142,
     "metadata": {},
     "output_type": "execute_result"
    },
    {
     "data": {
      "image/png": "[encoded data removed]",
      "text/plain": [
       "<Figure size 252x189 with 1 Axes>"
      ]
     },
     "metadata": {
      "needs_background": "light"
     },
     "output_type": "display_data"
    }
   ],
   "source": [
    "plt.scatter(range(len(extinction)), extinction)\n",
    "plt.scatter(range(len(extinction)), m_aper-df[\"JAB\"])\n",
    "\n",
    "plt.plot(range(len(extinction)), extinction)\n",
    "plt.plot(range(len(extinction)), m_aper-df[\"JAB\"])"
   ]
  },
  {
   "cell_type": "code",
   "execution_count": null,
   "metadata": {},
   "outputs": [],
   "source": []
  }
 ],
 "metadata": {
  "interpreter": {
   "hash": "b0f8baa6c81834b8b322d65750ab839392460faf44a7bcaee45f82ddf87552c6"
  },
  "kernelspec": {
   "display_name": "Python 3.8.12 ('pypeit')",
   "language": "python",
   "name": "python3"
  },
  "language_info": {
   "codemirror_mode": {
    "name": "ipython",
    "version": 3
   },
   "file_extension": ".py",
   "mimetype": "text/x-python",
   "name": "python",
   "nbconvert_exporter": "python",
   "pygments_lexer": "ipython3",
   "version": "3.8.12"
  },
  "orig_nbformat": 4
 },
 "nbformat": 4,
 "nbformat_minor": 2
}
